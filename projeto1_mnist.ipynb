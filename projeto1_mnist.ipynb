{
 "cells": [
  {
   "cell_type": "code",
   "execution_count": 5,
   "metadata": {},
   "outputs": [],
   "source": [
    "import os\n",
    "import collections\n",
    "import numpy as np\n",
    "import pandas as pd\n",
    "from mnist import MNIST\n",
    "from sklearn.metrics import accuracy_score\n",
    "from sklearn.neighbors import KNeighborsClassifier\n",
    "from sklearn.discriminant_analysis import LinearDiscriminantAnalysis"
   ]
  },
  {
   "cell_type": "code",
   "execution_count": 6,
   "metadata": {},
   "outputs": [],
   "source": [
    "mnistImagens = MNIST('imagens')\n",
    "        \n",
    "# Método para processamento de teste aprendizado\n",
    "def processoTeste():\n",
    "    imagens, labels = mnistImagens.load_training()\n",
    "    \n",
    "    # Método de fábrica para criar subclasses de tupla com campos nomeados\n",
    "    teste = collections.namedtuple('teste', ['imagens', 'labels'])\n",
    "    \n",
    "    return teste(imagens, labels)\n",
    "    \n",
    "# Método para processamento de treino aprendizado\n",
    "def processoTreino():\n",
    "    imagens, labels = mnistImagens.load_testing()\n",
    "    \n",
    "    # Método de fábrica para criar subclasses de tupla com campos nomeados\n",
    "    treino = collections.namedtuple('treino', ['imagens', 'labels'])\n",
    "    return treino(imagens, labels)"
   ]
  },
  {
   "cell_type": "markdown",
   "metadata": {},
   "source": [
    "# Algoritmo KNN"
   ]
  },
  {
   "cell_type": "code",
   "execution_count": 7,
   "metadata": {},
   "outputs": [],
   "source": [
    "treino = processoTreino()\n",
    "#treino"
   ]
  },
  {
   "cell_type": "code",
   "execution_count": 8,
   "metadata": {},
   "outputs": [
    {
     "data": {
      "text/plain": [
       "array([[0, 0, 0, ..., 0, 0, 0],\n",
       "       [0, 0, 0, ..., 0, 0, 0],\n",
       "       [0, 0, 0, ..., 0, 0, 0],\n",
       "       ...,\n",
       "       [0, 0, 0, ..., 0, 0, 0],\n",
       "       [0, 0, 0, ..., 0, 0, 0],\n",
       "       [0, 0, 0, ..., 0, 0, 0]])"
      ]
     },
     "execution_count": 8,
     "metadata": {},
     "output_type": "execute_result"
    }
   ],
   "source": [
    "teste = processoTeste()\n",
    "\n",
    "# Crie uma matriz\n",
    "treinoImagem = np.array(treino.imagens)\n",
    "treinoImagem"
   ]
  },
  {
   "cell_type": "code",
   "execution_count": 9,
   "metadata": {},
   "outputs": [
    {
     "data": {
      "text/plain": [
       "array([[0, 0, 0, ..., 0, 0, 0],\n",
       "       [0, 0, 0, ..., 0, 0, 0],\n",
       "       [0, 0, 0, ..., 0, 0, 0],\n",
       "       ...,\n",
       "       [0, 0, 0, ..., 0, 0, 0],\n",
       "       [0, 0, 0, ..., 0, 0, 0],\n",
       "       [0, 0, 0, ..., 0, 0, 0]])"
      ]
     },
     "execution_count": 9,
     "metadata": {},
     "output_type": "execute_result"
    }
   ],
   "source": [
    "treinoLabels = np.array(treino.labels)\n",
    "treinoImagem"
   ]
  },
  {
   "cell_type": "code",
   "execution_count": 10,
   "metadata": {},
   "outputs": [
    {
     "name": "stdout",
     "output_type": "stream",
     "text": [
      "Matriz da Soma das linhas do arquivo de treino: [7 2 1 ... 4 5 6]\n"
     ]
    }
   ],
   "source": [
    "print('Matriz da Soma das linhas do arquivo de treino: ' + str(treinoLabels))"
   ]
  },
  {
   "cell_type": "code",
   "execution_count": 11,
   "metadata": {},
   "outputs": [
    {
     "data": {
      "text/plain": [
       "array([[0, 0, 0, ..., 0, 0, 0],\n",
       "       [0, 0, 0, ..., 0, 0, 0],\n",
       "       [0, 0, 0, ..., 0, 0, 0],\n",
       "       ...,\n",
       "       [0, 0, 0, ..., 0, 0, 0],\n",
       "       [0, 0, 0, ..., 0, 0, 0],\n",
       "       [0, 0, 0, ..., 0, 0, 0]])"
      ]
     },
     "execution_count": 11,
     "metadata": {},
     "output_type": "execute_result"
    }
   ],
   "source": [
    "# Crie uma matriz\n",
    "testeImagem = np.array(teste.imagens)\n",
    "testeImagem"
   ]
  },
  {
   "cell_type": "code",
   "execution_count": 12,
   "metadata": {},
   "outputs": [
    {
     "data": {
      "text/plain": [
       "array([5, 0, 4, ..., 5, 6, 8], dtype=uint8)"
      ]
     },
     "execution_count": 12,
     "metadata": {},
     "output_type": "execute_result"
    }
   ],
   "source": [
    "testeLabels = np.array(teste.labels)    \n",
    "testeLabels"
   ]
  },
  {
   "cell_type": "code",
   "execution_count": 14,
   "metadata": {},
   "outputs": [
    {
     "name": "stdout",
     "output_type": "stream",
     "text": [
      "Matriz da Soma das linhas do arquivo de teste: [5 0 4 ... 5 6 8]\n"
     ]
    }
   ],
   "source": [
    "print('Matriz da Soma das linhas do arquivo de teste: ' + str(testeLabels))"
   ]
  },
  {
   "cell_type": "code",
   "execution_count": 15,
   "metadata": {},
   "outputs": [
    {
     "name": "stdout",
     "output_type": "stream",
     "text": [
      "Classificando Vizinhos k = 3\n"
     ]
    }
   ],
   "source": [
    "n_neighbors = 3\n",
    "print('Classificando Vizinhos k = ' + str(n_neighbors))"
   ]
  },
  {
   "cell_type": "code",
   "execution_count": 16,
   "metadata": {},
   "outputs": [
    {
     "data": {
      "text/plain": [
       "KNeighborsClassifier(n_neighbors=3)"
      ]
     },
     "execution_count": 16,
     "metadata": {},
     "output_type": "execute_result"
    }
   ],
   "source": [
    "# Encontra os Vizinhos mais proximos ao valor de K\n",
    "classificadorVizinhos = KNeighborsClassifier(n_neighbors)\n",
    "\n",
    "# Ajustar o modelo usando o paramêtro 1 como dados de treinamento e \n",
    "# paramêtro 2 como valores de destino\n",
    "classificadorVizinhos.fit(treinoImagem, treinoLabels)"
   ]
  },
  {
   "cell_type": "code",
   "execution_count": null,
   "metadata": {},
   "outputs": [],
   "source": [
    "# Prever os rótulos de classe para os dados fornecidos\n",
    "precisao = classificadorVizinhos.predict(testeImagem)\n",
    "precisao"
   ]
  },
  {
   "cell_type": "code",
   "execution_count": null,
   "metadata": {},
   "outputs": [],
   "source": [
    "# Pontuação de classificação de precisão.\n",
    "print('Precisão: ' + str(accuracy_score(testeLabels, precisao) * 100) + '%')"
   ]
  },
  {
   "cell_type": "code",
   "execution_count": null,
   "metadata": {},
   "outputs": [],
   "source": [
    "print(\"Matriz de Confusão KNN\")\n",
    "# Compute a matriz de confusão para avaliar a precisão de uma classificação\n",
    "pd.crosstab(testeLabels, precisao, rownames=['Real'], colnames=['Predito'], margins=True)"
   ]
  },
  {
   "cell_type": "markdown",
   "metadata": {},
   "source": [
    "# Algoritmo LDA"
   ]
  },
  {
   "cell_type": "code",
   "execution_count": 11,
   "metadata": {},
   "outputs": [
    {
     "data": {
      "text/plain": [
       "array([[0, 0, 0, ..., 0, 0, 0],\n",
       "       [0, 0, 0, ..., 0, 0, 0],\n",
       "       [0, 0, 0, ..., 0, 0, 0],\n",
       "       ...,\n",
       "       [0, 0, 0, ..., 0, 0, 0],\n",
       "       [0, 0, 0, ..., 0, 0, 0],\n",
       "       [0, 0, 0, ..., 0, 0, 0]])"
      ]
     },
     "execution_count": 11,
     "metadata": {},
     "output_type": "execute_result"
    }
   ],
   "source": [
    "treino = processoTreino() \n",
    "\n",
    "# Crie uma matriz\n",
    "treinoImagem = np.array(treino.imagens)\n",
    "treinoImagem"
   ]
  },
  {
   "cell_type": "code",
   "execution_count": 12,
   "metadata": {},
   "outputs": [
    {
     "data": {
      "text/plain": [
       "array([7, 2, 1, ..., 4, 5, 6], dtype=uint8)"
      ]
     },
     "execution_count": 12,
     "metadata": {},
     "output_type": "execute_result"
    }
   ],
   "source": [
    "treinoLabels = np.array(treino.labels)\n",
    "treinoLabels"
   ]
  },
  {
   "cell_type": "code",
   "execution_count": 13,
   "metadata": {},
   "outputs": [
    {
     "name": "stdout",
     "output_type": "stream",
     "text": [
      "Soma das linhas do arquivo de treino: [7 2 1 ... 4 5 6]\n"
     ]
    }
   ],
   "source": [
    "print('Soma das linhas do arquivo de treino: ' + str(treinoLabels))"
   ]
  },
  {
   "cell_type": "code",
   "execution_count": 14,
   "metadata": {},
   "outputs": [
    {
     "data": {
      "text/plain": [
       "array([[0, 0, 0, ..., 0, 0, 0],\n",
       "       [0, 0, 0, ..., 0, 0, 0],\n",
       "       [0, 0, 0, ..., 0, 0, 0],\n",
       "       ...,\n",
       "       [0, 0, 0, ..., 0, 0, 0],\n",
       "       [0, 0, 0, ..., 0, 0, 0],\n",
       "       [0, 0, 0, ..., 0, 0, 0]])"
      ]
     },
     "execution_count": 14,
     "metadata": {},
     "output_type": "execute_result"
    }
   ],
   "source": [
    "teste = processoTeste()\n",
    "\n",
    "# Crie uma matriz\n",
    "testeImagem = np.array(teste.imagens)\n",
    "testeImagem"
   ]
  },
  {
   "cell_type": "code",
   "execution_count": 15,
   "metadata": {},
   "outputs": [
    {
     "data": {
      "text/plain": [
       "array([5, 0, 4, ..., 5, 6, 8], dtype=uint8)"
      ]
     },
     "execution_count": 15,
     "metadata": {},
     "output_type": "execute_result"
    }
   ],
   "source": [
    "testeLabels = np.array(teste.labels)\n",
    "testeLabels"
   ]
  },
  {
   "cell_type": "code",
   "execution_count": 17,
   "metadata": {},
   "outputs": [
    {
     "name": "stdout",
     "output_type": "stream",
     "text": [
      "Soma das linhas do arquivo de teste: [5 0 4 ... 5 6 8]\n"
     ]
    }
   ],
   "source": [
    "print('Soma das linhas do arquivo de teste: ' + str(testeLabels))"
   ]
  },
  {
   "cell_type": "code",
   "execution_count": 18,
   "metadata": {},
   "outputs": [
    {
     "data": {
      "text/plain": [
       "LinearDiscriminantAnalysis()"
      ]
     },
     "execution_count": 18,
     "metadata": {},
     "output_type": "execute_result"
    }
   ],
   "source": [
    "# Um classificador com um limite de decisão linear, \n",
    "# gerado pela montagem de densidades condicionais de classe \n",
    "# aos dados e usando a regra de Bayes.\n",
    "AnalisadorDiscriminante = LinearDiscriminantAnalysis()\n",
    "        \n",
    "# Ajuste o modelo LinearDiscriminantAnalysis de acordo com os dados e parâmetros de treinamento fornecidos.\n",
    "AnalisadorDiscriminante.fit(treinoImagem, treinoLabels)"
   ]
  },
  {
   "cell_type": "code",
   "execution_count": 19,
   "metadata": {},
   "outputs": [
    {
     "data": {
      "text/plain": [
       "array([5, 0, 4, ..., 5, 6, 8], dtype=uint8)"
      ]
     },
     "execution_count": 19,
     "metadata": {},
     "output_type": "execute_result"
    }
   ],
   "source": [
    "# Prever os rótulos de classe para os dados fornecidos\n",
    "precisao = AnalisadorDiscriminante.predict(testeImagem)\n",
    "precisao"
   ]
  },
  {
   "cell_type": "code",
   "execution_count": 20,
   "metadata": {},
   "outputs": [
    {
     "name": "stdout",
     "output_type": "stream",
     "text": [
      "Precisão: 85.08333333333333%\n"
     ]
    }
   ],
   "source": [
    "print('Precisão: ' + str(accuracy_score(testeLabels, precisao) * 100) + '%')"
   ]
  },
  {
   "cell_type": "code",
   "execution_count": 22,
   "metadata": {},
   "outputs": [
    {
     "name": "stdout",
     "output_type": "stream",
     "text": [
      "Matriz de Confusao LDA\n"
     ]
    },
    {
     "data": {
      "text/html": [
       "<div>\n",
       "<style scoped>\n",
       "    .dataframe tbody tr th:only-of-type {\n",
       "        vertical-align: middle;\n",
       "    }\n",
       "\n",
       "    .dataframe tbody tr th {\n",
       "        vertical-align: top;\n",
       "    }\n",
       "\n",
       "    .dataframe thead th {\n",
       "        text-align: right;\n",
       "    }\n",
       "</style>\n",
       "<table border=\"1\" class=\"dataframe\">\n",
       "  <thead>\n",
       "    <tr style=\"text-align: right;\">\n",
       "      <th>Predito</th>\n",
       "      <th>0</th>\n",
       "      <th>1</th>\n",
       "      <th>2</th>\n",
       "      <th>3</th>\n",
       "      <th>4</th>\n",
       "      <th>5</th>\n",
       "      <th>6</th>\n",
       "      <th>7</th>\n",
       "      <th>8</th>\n",
       "      <th>9</th>\n",
       "      <th>All</th>\n",
       "    </tr>\n",
       "    <tr>\n",
       "      <th>Real</th>\n",
       "      <th></th>\n",
       "      <th></th>\n",
       "      <th></th>\n",
       "      <th></th>\n",
       "      <th></th>\n",
       "      <th></th>\n",
       "      <th></th>\n",
       "      <th></th>\n",
       "      <th></th>\n",
       "      <th></th>\n",
       "      <th></th>\n",
       "    </tr>\n",
       "  </thead>\n",
       "  <tbody>\n",
       "    <tr>\n",
       "      <th>0</th>\n",
       "      <td>5522</td>\n",
       "      <td>5</td>\n",
       "      <td>35</td>\n",
       "      <td>54</td>\n",
       "      <td>39</td>\n",
       "      <td>105</td>\n",
       "      <td>37</td>\n",
       "      <td>3</td>\n",
       "      <td>110</td>\n",
       "      <td>13</td>\n",
       "      <td>5923</td>\n",
       "    </tr>\n",
       "    <tr>\n",
       "      <th>1</th>\n",
       "      <td>0</td>\n",
       "      <td>6510</td>\n",
       "      <td>48</td>\n",
       "      <td>21</td>\n",
       "      <td>23</td>\n",
       "      <td>33</td>\n",
       "      <td>6</td>\n",
       "      <td>14</td>\n",
       "      <td>78</td>\n",
       "      <td>9</td>\n",
       "      <td>6742</td>\n",
       "    </tr>\n",
       "    <tr>\n",
       "      <th>2</th>\n",
       "      <td>78</td>\n",
       "      <td>198</td>\n",
       "      <td>4812</td>\n",
       "      <td>185</td>\n",
       "      <td>136</td>\n",
       "      <td>30</td>\n",
       "      <td>180</td>\n",
       "      <td>84</td>\n",
       "      <td>213</td>\n",
       "      <td>42</td>\n",
       "      <td>5958</td>\n",
       "    </tr>\n",
       "    <tr>\n",
       "      <th>3</th>\n",
       "      <td>23</td>\n",
       "      <td>99</td>\n",
       "      <td>236</td>\n",
       "      <td>4954</td>\n",
       "      <td>41</td>\n",
       "      <td>251</td>\n",
       "      <td>19</td>\n",
       "      <td>127</td>\n",
       "      <td>210</td>\n",
       "      <td>171</td>\n",
       "      <td>6131</td>\n",
       "    </tr>\n",
       "    <tr>\n",
       "      <th>4</th>\n",
       "      <td>9</td>\n",
       "      <td>50</td>\n",
       "      <td>43</td>\n",
       "      <td>7</td>\n",
       "      <td>5067</td>\n",
       "      <td>48</td>\n",
       "      <td>45</td>\n",
       "      <td>5</td>\n",
       "      <td>97</td>\n",
       "      <td>471</td>\n",
       "      <td>5842</td>\n",
       "    </tr>\n",
       "    <tr>\n",
       "      <th>5</th>\n",
       "      <td>64</td>\n",
       "      <td>77</td>\n",
       "      <td>39</td>\n",
       "      <td>310</td>\n",
       "      <td>93</td>\n",
       "      <td>4215</td>\n",
       "      <td>135</td>\n",
       "      <td>31</td>\n",
       "      <td>325</td>\n",
       "      <td>132</td>\n",
       "      <td>5421</td>\n",
       "    </tr>\n",
       "    <tr>\n",
       "      <th>6</th>\n",
       "      <td>64</td>\n",
       "      <td>81</td>\n",
       "      <td>88</td>\n",
       "      <td>8</td>\n",
       "      <td>76</td>\n",
       "      <td>137</td>\n",
       "      <td>5302</td>\n",
       "      <td>3</td>\n",
       "      <td>152</td>\n",
       "      <td>7</td>\n",
       "      <td>5918</td>\n",
       "    </tr>\n",
       "    <tr>\n",
       "      <th>7</th>\n",
       "      <td>40</td>\n",
       "      <td>137</td>\n",
       "      <td>42</td>\n",
       "      <td>64</td>\n",
       "      <td>210</td>\n",
       "      <td>30</td>\n",
       "      <td>5</td>\n",
       "      <td>5209</td>\n",
       "      <td>34</td>\n",
       "      <td>494</td>\n",
       "      <td>6265</td>\n",
       "    </tr>\n",
       "    <tr>\n",
       "      <th>8</th>\n",
       "      <td>29</td>\n",
       "      <td>417</td>\n",
       "      <td>52</td>\n",
       "      <td>225</td>\n",
       "      <td>84</td>\n",
       "      <td>309</td>\n",
       "      <td>30</td>\n",
       "      <td>20</td>\n",
       "      <td>4514</td>\n",
       "      <td>171</td>\n",
       "      <td>5851</td>\n",
       "    </tr>\n",
       "    <tr>\n",
       "      <th>9</th>\n",
       "      <td>47</td>\n",
       "      <td>27</td>\n",
       "      <td>15</td>\n",
       "      <td>90</td>\n",
       "      <td>350</td>\n",
       "      <td>35</td>\n",
       "      <td>1</td>\n",
       "      <td>362</td>\n",
       "      <td>77</td>\n",
       "      <td>4945</td>\n",
       "      <td>5949</td>\n",
       "    </tr>\n",
       "    <tr>\n",
       "      <th>All</th>\n",
       "      <td>5876</td>\n",
       "      <td>7601</td>\n",
       "      <td>5410</td>\n",
       "      <td>5918</td>\n",
       "      <td>6119</td>\n",
       "      <td>5193</td>\n",
       "      <td>5760</td>\n",
       "      <td>5858</td>\n",
       "      <td>5810</td>\n",
       "      <td>6455</td>\n",
       "      <td>60000</td>\n",
       "    </tr>\n",
       "  </tbody>\n",
       "</table>\n",
       "</div>"
      ],
      "text/plain": [
       "Predito     0     1     2     3     4     5     6     7     8     9    All\n",
       "Real                                                                      \n",
       "0        5522     5    35    54    39   105    37     3   110    13   5923\n",
       "1           0  6510    48    21    23    33     6    14    78     9   6742\n",
       "2          78   198  4812   185   136    30   180    84   213    42   5958\n",
       "3          23    99   236  4954    41   251    19   127   210   171   6131\n",
       "4           9    50    43     7  5067    48    45     5    97   471   5842\n",
       "5          64    77    39   310    93  4215   135    31   325   132   5421\n",
       "6          64    81    88     8    76   137  5302     3   152     7   5918\n",
       "7          40   137    42    64   210    30     5  5209    34   494   6265\n",
       "8          29   417    52   225    84   309    30    20  4514   171   5851\n",
       "9          47    27    15    90   350    35     1   362    77  4945   5949\n",
       "All      5876  7601  5410  5918  6119  5193  5760  5858  5810  6455  60000"
      ]
     },
     "execution_count": 22,
     "metadata": {},
     "output_type": "execute_result"
    }
   ],
   "source": [
    "print(\"Matriz de Confusao LDA\")\n",
    "# Compute a matriz de confusão para avaliar a precisão de uma classificação        \n",
    "pd.crosstab(testeLabels, precisao, rownames=['Real'], colnames=['Predito'], margins=True)"
   ]
  }
 ],
 "metadata": {
  "kernelspec": {
   "display_name": "Python 3",
   "language": "python",
   "name": "python3"
  },
  "language_info": {
   "codemirror_mode": {
    "name": "ipython",
    "version": 3
   },
   "file_extension": ".py",
   "mimetype": "text/x-python",
   "name": "python",
   "nbconvert_exporter": "python",
   "pygments_lexer": "ipython3",
   "version": "3.8.2"
  }
 },
 "nbformat": 4,
 "nbformat_minor": 4
}
